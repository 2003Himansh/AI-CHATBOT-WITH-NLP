{
 "cells": [
  {
   "cell_type": "code",
   "execution_count": null,
   "id": "eff21805-0c16-4e64-abe7-0b78ef451fc0",
   "metadata": {},
   "outputs": [
    {
     "name": "stdout",
     "output_type": "stream",
     "text": [
      "Hello! I am AlienBot. How can I assist you today?\n"
     ]
    }
   ],
   "source": [
    "import random\n",
    "\n",
    "class RuleBot:\n",
    "    def greet(self):\n",
    "        print(\"Hello! I am AlienBot. How can I assist you today?\")\n",
    "    \n",
    "    def about_intellipaat(self):\n",
    "        responses = (\n",
    "            \"Intellipaat is the world's largest professional educational company.\",\n",
    "            \"Intellipaat will help you learn concepts like never before.\",\n",
    "            \"At Intellipaat, your career and skills grow together.\"\n",
    "        )\n",
    "        return random.choice(responses)\n",
    "\n",
    "    def about_session(self):\n",
    "        responses = (\n",
    "            \"Sessions are designed to be interactive and engaging.\",\n",
    "            \"You can join sessions to learn new skills and concepts.\",\n",
    "            \"Sessions are conducted by industry experts.\"\n",
    "        )\n",
    "        return random.choice(responses)\n",
    "\n",
    "    def chat(self):\n",
    "        while True:\n",
    "            user_input = input(\"You: \")\n",
    "            if 'intellipaat' in user_input.lower():\n",
    "                print(\"Bot:\", self.about_intellipaat())\n",
    "            elif 'session' in user_input.lower():\n",
    "                print(\"Bot:\", self.about_session())\n",
    "            elif user_input.lower() in [\"bye\", \"exit\", \"quit\"]:\n",
    "                print(\"Bot: Goodbye! Have a great day.\")\n",
    "                break\n",
    "            else:\n",
    "                print(\"Bot: No match intent.\")\n",
    "\n",
    "# Using the bot\n",
    "bot = RuleBot()\n",
    "bot.greet()\n",
    "bot.chat()"
   ]
  },
  {
   "cell_type": "code",
   "execution_count": null,
   "id": "34dae632-375d-4866-a623-165fac725271",
   "metadata": {},
   "outputs": [],
   "source": []
  }
 ],
 "metadata": {
  "kernelspec": {
   "display_name": "Python 3 (ipykernel)",
   "language": "python",
   "name": "python3"
  },
  "language_info": {
   "codemirror_mode": {
    "name": "ipython",
    "version": 3
   },
   "file_extension": ".py",
   "mimetype": "text/x-python",
   "name": "python",
   "nbconvert_exporter": "python",
   "pygments_lexer": "ipython3",
   "version": "3.12.7"
  }
 },
 "nbformat": 4,
 "nbformat_minor": 5
}
